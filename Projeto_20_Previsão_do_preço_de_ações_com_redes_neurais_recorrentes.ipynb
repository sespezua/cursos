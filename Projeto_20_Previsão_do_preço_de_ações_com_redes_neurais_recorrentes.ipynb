{
  "nbformat": 4,
  "nbformat_minor": 0,
  "metadata": {
    "colab": {
      "name": "Projeto #20: Previsão do preço de ações com redes neurais recorrentes.ipynb",
      "provenance": [],
      "collapsed_sections": [],
      "include_colab_link": true
    },
    "kernelspec": {
      "name": "python3",
      "display_name": "Python 3"
    },
    "accelerator": "GPU"
  },
  "cells": [
    {
      "cell_type": "markdown",
      "metadata": {
        "id": "view-in-github",
        "colab_type": "text"
      },
      "source": [
        "<a href=\"https://colab.research.google.com/github/sespezua/cursos/blob/master/Projeto_20_Previs%C3%A3o_do_pre%C3%A7o_de_a%C3%A7%C3%B5es_com_redes_neurais_recorrentes.ipynb\" target=\"_parent\"><img src=\"https://colab.research.google.com/assets/colab-badge.svg\" alt=\"Open In Colab\"/></a>"
      ]
    },
    {
      "cell_type": "markdown",
      "metadata": {
        "id": "rD_RSER5Lkb5"
      },
      "source": [
        "# Projeto 20: Previsão do preço de ações com redes neurais recorrentes"
      ]
    },
    {
      "cell_type": "markdown",
      "metadata": {
        "id": "5tP2BcEILoLB"
      },
      "source": [
        "## Etapa 1: Importação das bibliotecas"
      ]
    },
    {
      "cell_type": "code",
      "metadata": {
        "id": "Yf0FpJ35Lf-Z",
        "colab": {
          "base_uri": "https://localhost:8080/",
          "height": 35
        },
        "outputId": "7d5a24a8-0c97-4d64-d409-58eb65c793a3"
      },
      "source": [
        "import numpy as np\n",
        "import pandas as pd\n",
        "from sklearn.preprocessing import MinMaxScaler\n",
        "import matplotlib.pyplot as plt\n",
        "import torch\n",
        "from torch import nn, optim\n",
        "from sklearn.metrics import mean_absolute_error\n",
        "torch.__version__"
      ],
      "execution_count": null,
      "outputs": [
        {
          "output_type": "execute_result",
          "data": {
            "text/plain": [
              "'1.4.0'"
            ]
          },
          "metadata": {
            "tags": []
          },
          "execution_count": 51
        }
      ]
    },
    {
      "cell_type": "code",
      "metadata": {
        "id": "X1vw_qANCnRx",
        "colab": {
          "base_uri": "https://localhost:8080/",
          "height": 35
        },
        "outputId": "30c4f76a-f7e4-4f1a-ad4b-2386197b9df9"
      },
      "source": [
        "torch.manual_seed(123)"
      ],
      "execution_count": null,
      "outputs": [
        {
          "output_type": "execute_result",
          "data": {
            "text/plain": [
              "<torch._C.Generator at 0x7ffb41962770>"
            ]
          },
          "metadata": {
            "tags": []
          },
          "execution_count": 52
        }
      ]
    },
    {
      "cell_type": "markdown",
      "metadata": {
        "id": "C0SD4dJ4MDMN"
      },
      "source": [
        "## Etapa 2: Base de dados"
      ]
    },
    {
      "cell_type": "code",
      "metadata": {
        "id": "ucYGZD8uX4TA"
      },
      "source": [
        "base = pd.read_csv('/content/petr4_treinamento.csv')"
      ],
      "execution_count": null,
      "outputs": []
    },
    {
      "cell_type": "code",
      "metadata": {
        "id": "6lKEclZLYHLl",
        "colab": {
          "base_uri": "https://localhost:8080/",
          "height": 198
        },
        "outputId": "b0de49fa-0119-467b-dea8-d45dde9972e7"
      },
      "source": [
        "base.head()"
      ],
      "execution_count": null,
      "outputs": [
        {
          "output_type": "execute_result",
          "data": {
            "text/html": [
              "<div>\n",
              "<style scoped>\n",
              "    .dataframe tbody tr th:only-of-type {\n",
              "        vertical-align: middle;\n",
              "    }\n",
              "\n",
              "    .dataframe tbody tr th {\n",
              "        vertical-align: top;\n",
              "    }\n",
              "\n",
              "    .dataframe thead th {\n",
              "        text-align: right;\n",
              "    }\n",
              "</style>\n",
              "<table border=\"1\" class=\"dataframe\">\n",
              "  <thead>\n",
              "    <tr style=\"text-align: right;\">\n",
              "      <th></th>\n",
              "      <th>Date</th>\n",
              "      <th>Open</th>\n",
              "      <th>High</th>\n",
              "      <th>Low</th>\n",
              "      <th>Close</th>\n",
              "      <th>Adj Close</th>\n",
              "      <th>Volume</th>\n",
              "    </tr>\n",
              "  </thead>\n",
              "  <tbody>\n",
              "    <tr>\n",
              "      <th>0</th>\n",
              "      <td>2013-01-02</td>\n",
              "      <td>19.990000</td>\n",
              "      <td>20.209999</td>\n",
              "      <td>19.690001</td>\n",
              "      <td>19.690001</td>\n",
              "      <td>18.086271</td>\n",
              "      <td>30182600.0</td>\n",
              "    </tr>\n",
              "    <tr>\n",
              "      <th>1</th>\n",
              "      <td>2013-01-03</td>\n",
              "      <td>19.809999</td>\n",
              "      <td>20.400000</td>\n",
              "      <td>19.700001</td>\n",
              "      <td>20.400000</td>\n",
              "      <td>18.738441</td>\n",
              "      <td>30552600.0</td>\n",
              "    </tr>\n",
              "    <tr>\n",
              "      <th>2</th>\n",
              "      <td>2013-01-04</td>\n",
              "      <td>20.330000</td>\n",
              "      <td>20.620001</td>\n",
              "      <td>20.170000</td>\n",
              "      <td>20.430000</td>\n",
              "      <td>18.766001</td>\n",
              "      <td>36141000.0</td>\n",
              "    </tr>\n",
              "    <tr>\n",
              "      <th>3</th>\n",
              "      <td>2013-01-07</td>\n",
              "      <td>20.480000</td>\n",
              "      <td>20.670000</td>\n",
              "      <td>19.950001</td>\n",
              "      <td>20.080000</td>\n",
              "      <td>18.444506</td>\n",
              "      <td>28069600.0</td>\n",
              "    </tr>\n",
              "    <tr>\n",
              "      <th>4</th>\n",
              "      <td>2013-01-08</td>\n",
              "      <td>20.110001</td>\n",
              "      <td>20.230000</td>\n",
              "      <td>19.459999</td>\n",
              "      <td>19.500000</td>\n",
              "      <td>17.911745</td>\n",
              "      <td>29091300.0</td>\n",
              "    </tr>\n",
              "  </tbody>\n",
              "</table>\n",
              "</div>"
            ],
            "text/plain": [
              "         Date       Open       High  ...      Close  Adj Close      Volume\n",
              "0  2013-01-02  19.990000  20.209999  ...  19.690001  18.086271  30182600.0\n",
              "1  2013-01-03  19.809999  20.400000  ...  20.400000  18.738441  30552600.0\n",
              "2  2013-01-04  20.330000  20.620001  ...  20.430000  18.766001  36141000.0\n",
              "3  2013-01-07  20.480000  20.670000  ...  20.080000  18.444506  28069600.0\n",
              "4  2013-01-08  20.110001  20.230000  ...  19.500000  17.911745  29091300.0\n",
              "\n",
              "[5 rows x 7 columns]"
            ]
          },
          "metadata": {
            "tags": []
          },
          "execution_count": 54
        }
      ]
    },
    {
      "cell_type": "code",
      "metadata": {
        "id": "5PIj8QmAYVhZ",
        "colab": {
          "base_uri": "https://localhost:8080/",
          "height": 198
        },
        "outputId": "dc991194-3b1d-400c-9bf7-af799935af14"
      },
      "source": [
        "base.tail()"
      ],
      "execution_count": null,
      "outputs": [
        {
          "output_type": "execute_result",
          "data": {
            "text/html": [
              "<div>\n",
              "<style scoped>\n",
              "    .dataframe tbody tr th:only-of-type {\n",
              "        vertical-align: middle;\n",
              "    }\n",
              "\n",
              "    .dataframe tbody tr th {\n",
              "        vertical-align: top;\n",
              "    }\n",
              "\n",
              "    .dataframe thead th {\n",
              "        text-align: right;\n",
              "    }\n",
              "</style>\n",
              "<table border=\"1\" class=\"dataframe\">\n",
              "  <thead>\n",
              "    <tr style=\"text-align: right;\">\n",
              "      <th></th>\n",
              "      <th>Date</th>\n",
              "      <th>Open</th>\n",
              "      <th>High</th>\n",
              "      <th>Low</th>\n",
              "      <th>Close</th>\n",
              "      <th>Adj Close</th>\n",
              "      <th>Volume</th>\n",
              "    </tr>\n",
              "  </thead>\n",
              "  <tbody>\n",
              "    <tr>\n",
              "      <th>1240</th>\n",
              "      <td>2017-12-25</td>\n",
              "      <td>15.75</td>\n",
              "      <td>15.750000</td>\n",
              "      <td>15.75</td>\n",
              "      <td>15.750000</td>\n",
              "      <td>15.718563</td>\n",
              "      <td>0.0</td>\n",
              "    </tr>\n",
              "    <tr>\n",
              "      <th>1241</th>\n",
              "      <td>2017-12-26</td>\n",
              "      <td>15.75</td>\n",
              "      <td>15.990000</td>\n",
              "      <td>15.69</td>\n",
              "      <td>15.970000</td>\n",
              "      <td>15.938125</td>\n",
              "      <td>22173100.0</td>\n",
              "    </tr>\n",
              "    <tr>\n",
              "      <th>1242</th>\n",
              "      <td>2017-12-27</td>\n",
              "      <td>15.99</td>\n",
              "      <td>16.139999</td>\n",
              "      <td>15.98</td>\n",
              "      <td>16.049999</td>\n",
              "      <td>16.017963</td>\n",
              "      <td>23552200.0</td>\n",
              "    </tr>\n",
              "    <tr>\n",
              "      <th>1243</th>\n",
              "      <td>2017-12-28</td>\n",
              "      <td>16.10</td>\n",
              "      <td>16.129999</td>\n",
              "      <td>16.00</td>\n",
              "      <td>16.100000</td>\n",
              "      <td>16.067865</td>\n",
              "      <td>19011500.0</td>\n",
              "    </tr>\n",
              "    <tr>\n",
              "      <th>1244</th>\n",
              "      <td>2017-12-29</td>\n",
              "      <td>16.10</td>\n",
              "      <td>16.100000</td>\n",
              "      <td>16.10</td>\n",
              "      <td>16.100000</td>\n",
              "      <td>16.067865</td>\n",
              "      <td>0.0</td>\n",
              "    </tr>\n",
              "  </tbody>\n",
              "</table>\n",
              "</div>"
            ],
            "text/plain": [
              "            Date   Open       High    Low      Close  Adj Close      Volume\n",
              "1240  2017-12-25  15.75  15.750000  15.75  15.750000  15.718563         0.0\n",
              "1241  2017-12-26  15.75  15.990000  15.69  15.970000  15.938125  22173100.0\n",
              "1242  2017-12-27  15.99  16.139999  15.98  16.049999  16.017963  23552200.0\n",
              "1243  2017-12-28  16.10  16.129999  16.00  16.100000  16.067865  19011500.0\n",
              "1244  2017-12-29  16.10  16.100000  16.10  16.100000  16.067865         0.0"
            ]
          },
          "metadata": {
            "tags": []
          },
          "execution_count": 55
        }
      ]
    },
    {
      "cell_type": "code",
      "metadata": {
        "id": "_KuVzCIBYhbb",
        "colab": {
          "base_uri": "https://localhost:8080/",
          "height": 35
        },
        "outputId": "80d0b0f2-427c-43e8-d0b7-ffe7bc237de0"
      },
      "source": [
        "base.shape"
      ],
      "execution_count": null,
      "outputs": [
        {
          "output_type": "execute_result",
          "data": {
            "text/plain": [
              "(1245, 7)"
            ]
          },
          "metadata": {
            "tags": []
          },
          "execution_count": 56
        }
      ]
    },
    {
      "cell_type": "code",
      "metadata": {
        "id": "0_SQL8HSYk7h"
      },
      "source": [
        "base = base.dropna()"
      ],
      "execution_count": null,
      "outputs": []
    },
    {
      "cell_type": "code",
      "metadata": {
        "id": "YnW24ppxYoSM",
        "colab": {
          "base_uri": "https://localhost:8080/",
          "height": 35
        },
        "outputId": "31d61296-96f4-4b98-f79c-b6defa354bbe"
      },
      "source": [
        "base.shape"
      ],
      "execution_count": null,
      "outputs": [
        {
          "output_type": "execute_result",
          "data": {
            "text/plain": [
              "(1242, 7)"
            ]
          },
          "metadata": {
            "tags": []
          },
          "execution_count": 58
        }
      ]
    },
    {
      "cell_type": "code",
      "metadata": {
        "id": "Je6_YLW1YwPU"
      },
      "source": [
        "base_treinamento = base.iloc[:, 1:2].values"
      ],
      "execution_count": null,
      "outputs": []
    },
    {
      "cell_type": "code",
      "metadata": {
        "id": "tO7vZCNvY6uC",
        "colab": {
          "base_uri": "https://localhost:8080/",
          "height": 138
        },
        "outputId": "0f602d08-e07e-4ca6-9c9a-634203e402da"
      },
      "source": [
        "base_treinamento"
      ],
      "execution_count": null,
      "outputs": [
        {
          "output_type": "execute_result",
          "data": {
            "text/plain": [
              "array([[19.99    ],\n",
              "       [19.809999],\n",
              "       [20.33    ],\n",
              "       ...,\n",
              "       [15.99    ],\n",
              "       [16.1     ],\n",
              "       [16.1     ]])"
            ]
          },
          "metadata": {
            "tags": []
          },
          "execution_count": 60
        }
      ]
    },
    {
      "cell_type": "code",
      "metadata": {
        "id": "EXN93LAkZAUX"
      },
      "source": [
        "normalizador = MinMaxScaler(feature_range=(0,1))\n",
        "base_treinamento_normalizada = normalizador.fit_transform(base_treinamento)"
      ],
      "execution_count": null,
      "outputs": []
    },
    {
      "cell_type": "code",
      "metadata": {
        "id": "85tcPswmZLf_",
        "colab": {
          "base_uri": "https://localhost:8080/",
          "height": 138
        },
        "outputId": "2f5d047f-9ef5-4b67-d0da-0feb1dd9c06d"
      },
      "source": [
        "base_treinamento_normalizada"
      ],
      "execution_count": null,
      "outputs": [
        {
          "output_type": "execute_result",
          "data": {
            "text/plain": [
              "array([[0.76501938],\n",
              "       [0.7562984 ],\n",
              "       [0.78149225],\n",
              "       ...,\n",
              "       [0.57122093],\n",
              "       [0.57655039],\n",
              "       [0.57655039]])"
            ]
          },
          "metadata": {
            "tags": []
          },
          "execution_count": 62
        }
      ]
    },
    {
      "cell_type": "code",
      "metadata": {
        "id": "pEo5e1p5aEC6"
      },
      "source": [
        "X = []\n",
        "y = []\n",
        "for i in range(90, 1242):\n",
        "  X.append(base_treinamento_normalizada[i-90:i, 0])\n",
        "  y.append(base_treinamento_normalizada[i, 0])\n",
        "X, y = np.array(X), np.array(y)"
      ],
      "execution_count": null,
      "outputs": []
    },
    {
      "cell_type": "code",
      "metadata": {
        "id": "EJS-3rX_a4IJ",
        "colab": {
          "base_uri": "https://localhost:8080/",
          "height": 328
        },
        "outputId": "e6e20b61-168f-4237-fd17-bc18d017f90f"
      },
      "source": [
        "X[0]"
      ],
      "execution_count": null,
      "outputs": [
        {
          "output_type": "execute_result",
          "data": {
            "text/plain": [
              "array([0.76501938, 0.7562984 , 0.78149225, 0.78875969, 0.77083338,\n",
              "       0.74806197, 0.75436047, 0.75823643, 0.76598837, 0.76598837,\n",
              "       0.76017437, 0.75872098, 0.75581391, 0.74467054, 0.7374031 ,\n",
              "       0.7374031 , 0.73498067, 0.75242248, 0.73401163, 0.71656977,\n",
              "       0.68120155, 0.67538755, 0.67635659, 0.63372098, 0.66521318,\n",
              "       0.65649225, 0.64680228, 0.66618222, 0.65843028, 0.64970935,\n",
              "       0.65116274, 0.66424419, 0.67344961, 0.64292631, 0.64486434,\n",
              "       0.62257747, 0.60949617, 0.60998067, 0.60852713, 0.59593023,\n",
              "       0.61143411, 0.60222863, 0.64922481, 0.68362398, 0.70687989,\n",
              "       0.68265509, 0.70978682, 0.70784879, 0.71608527, 0.73643411,\n",
              "       0.7122093 , 0.7122093 , 0.7194767 , 0.70348832, 0.69525189,\n",
              "       0.70397287, 0.70397287, 0.69767442, 0.68168605, 0.68168605,\n",
              "       0.65310078, 0.66618222, 0.64825581, 0.66182175, 0.64341085,\n",
              "       0.67877902, 0.69137592, 0.66569772, 0.65406982, 0.64292631,\n",
              "       0.64147292, 0.63565891, 0.67587209, 0.68653106, 0.70300383,\n",
              "       0.71996119, 0.73982553, 0.76550388, 0.74854651, 0.75823643,\n",
              "       0.78924419, 0.76598837, 0.78488372, 0.80184109, 0.77761628,\n",
              "       0.77325581, 0.7562984 , 0.74273261, 0.74127907, 0.74224806])"
            ]
          },
          "metadata": {
            "tags": []
          },
          "execution_count": 64
        }
      ]
    },
    {
      "cell_type": "code",
      "metadata": {
        "id": "ZX31xR2la62y",
        "colab": {
          "base_uri": "https://localhost:8080/",
          "height": 35
        },
        "outputId": "7fe818de-74ea-4052-ad1f-82d581ca38fb"
      },
      "source": [
        "y[0]"
      ],
      "execution_count": null,
      "outputs": [
        {
          "output_type": "execute_result",
          "data": {
            "text/plain": [
              "0.7611434108527131"
            ]
          },
          "metadata": {
            "tags": []
          },
          "execution_count": 65
        }
      ]
    },
    {
      "cell_type": "code",
      "metadata": {
        "id": "kRCYGjdHa_CY",
        "colab": {
          "base_uri": "https://localhost:8080/",
          "height": 328
        },
        "outputId": "1b70cff2-45d0-4bd4-8fe6-ab6eb691ef8e"
      },
      "source": [
        "X[1]"
      ],
      "execution_count": null,
      "outputs": [
        {
          "output_type": "execute_result",
          "data": {
            "text/plain": [
              "array([0.7562984 , 0.78149225, 0.78875969, 0.77083338, 0.74806197,\n",
              "       0.75436047, 0.75823643, 0.76598837, 0.76598837, 0.76017437,\n",
              "       0.75872098, 0.75581391, 0.74467054, 0.7374031 , 0.7374031 ,\n",
              "       0.73498067, 0.75242248, 0.73401163, 0.71656977, 0.68120155,\n",
              "       0.67538755, 0.67635659, 0.63372098, 0.66521318, 0.65649225,\n",
              "       0.64680228, 0.66618222, 0.65843028, 0.64970935, 0.65116274,\n",
              "       0.66424419, 0.67344961, 0.64292631, 0.64486434, 0.62257747,\n",
              "       0.60949617, 0.60998067, 0.60852713, 0.59593023, 0.61143411,\n",
              "       0.60222863, 0.64922481, 0.68362398, 0.70687989, 0.68265509,\n",
              "       0.70978682, 0.70784879, 0.71608527, 0.73643411, 0.7122093 ,\n",
              "       0.7122093 , 0.7194767 , 0.70348832, 0.69525189, 0.70397287,\n",
              "       0.70397287, 0.69767442, 0.68168605, 0.68168605, 0.65310078,\n",
              "       0.66618222, 0.64825581, 0.66182175, 0.64341085, 0.67877902,\n",
              "       0.69137592, 0.66569772, 0.65406982, 0.64292631, 0.64147292,\n",
              "       0.63565891, 0.67587209, 0.68653106, 0.70300383, 0.71996119,\n",
              "       0.73982553, 0.76550388, 0.74854651, 0.75823643, 0.78924419,\n",
              "       0.76598837, 0.78488372, 0.80184109, 0.77761628, 0.77325581,\n",
              "       0.7562984 , 0.74273261, 0.74127907, 0.74224806, 0.76114341])"
            ]
          },
          "metadata": {
            "tags": []
          },
          "execution_count": 66
        }
      ]
    },
    {
      "cell_type": "code",
      "metadata": {
        "id": "5JYwKblKbIiN",
        "colab": {
          "base_uri": "https://localhost:8080/",
          "height": 35
        },
        "outputId": "b9efb356-93e2-4474-8663-fdb687b0c41a"
      },
      "source": [
        "y[1]"
      ],
      "execution_count": null,
      "outputs": [
        {
          "output_type": "execute_result",
          "data": {
            "text/plain": [
              "0.7611434108527131"
            ]
          },
          "metadata": {
            "tags": []
          },
          "execution_count": 67
        }
      ]
    },
    {
      "cell_type": "code",
      "metadata": {
        "id": "WO5uZ5UDbNEA"
      },
      "source": [
        "X = torch.tensor(X, dtype=torch.float32)\n",
        "y = torch.tensor(y, dtype=torch.float32)"
      ],
      "execution_count": null,
      "outputs": []
    },
    {
      "cell_type": "code",
      "metadata": {
        "id": "g0j6uH1kbTnO"
      },
      "source": [
        "dataset = torch.utils.data.TensorDataset(X, y)\n",
        "loader = torch.utils.data.DataLoader(dataset, batch_size=32, shuffle=True)"
      ],
      "execution_count": null,
      "outputs": []
    },
    {
      "cell_type": "markdown",
      "metadata": {
        "id": "QGDLesyDQpIb"
      },
      "source": [
        "## Etapa 3: Construção da rede neural recorrente"
      ]
    },
    {
      "cell_type": "code",
      "metadata": {
        "id": "NPwFS6SScThE"
      },
      "source": [
        "class regressor_LSTM(nn.Module):\n",
        "  def __init__(self):\n",
        "    super().__init__()\n",
        "\n",
        "    self.lstm1 = nn.LSTM(input_size=1, hidden_size=100)\n",
        "    self.lstm2 = nn.LSTM(100, 50)\n",
        "    self.lstm3 = nn.LSTM(50, 50, dropout = 0.3, num_layers=2)\n",
        "    self.dropout = nn.Dropout(p = 0.3)\n",
        "    self.linear = nn.Linear(in_features=50, out_features=1)\n",
        "\n",
        "  def forward(self, X):\n",
        "    # (batch_size, timesteps) -> (timesteps, batch_size, dimensions)\n",
        "    X = X.permute(1, 0).unsqueeze(2)\n",
        "    X, _ = self.lstm1(X)\n",
        "    X = self.dropout(X)\n",
        "    X, _ = self.lstm2(X)\n",
        "    X = self.dropout(X)\n",
        "    X, _ = self.lstm3(X)\n",
        "\n",
        "    X = X[-1]\n",
        "    X = self.dropout(X)\n",
        "    X = self.linear(X)\n",
        "\n",
        "    return X"
      ],
      "execution_count": null,
      "outputs": []
    },
    {
      "cell_type": "code",
      "metadata": {
        "id": "pJqCrc3cfLgg",
        "colab": {
          "base_uri": "https://localhost:8080/",
          "height": 35
        },
        "outputId": "01d6ba8d-5fed-4afb-9266-ada08dcea445"
      },
      "source": [
        "device = torch.device('cuda') if torch.cuda.is_available else torch.device('cpu')\n",
        "device"
      ],
      "execution_count": null,
      "outputs": [
        {
          "output_type": "execute_result",
          "data": {
            "text/plain": [
              "device(type='cuda')"
            ]
          },
          "metadata": {
            "tags": []
          },
          "execution_count": 71
        }
      ]
    },
    {
      "cell_type": "code",
      "metadata": {
        "id": "hShspfqhfUH5"
      },
      "source": [
        "regressor = regressor_LSTM()\n",
        "criterion = nn.MSELoss()\n",
        "# Atenção: caso você tenha sempre os mesmos resultados de previsões, utilize os parâmetros lr e alpha abaixo\n",
        "optimizer = optim.RMSprop(regressor.parameters(), lr = 1e-3, alpha = 0.9)"
      ],
      "execution_count": null,
      "outputs": []
    },
    {
      "cell_type": "code",
      "metadata": {
        "id": "-q2FbKBhffed",
        "colab": {
          "base_uri": "https://localhost:8080/",
          "height": 138
        },
        "outputId": "6bfc5f78-cd64-4f4d-91e2-688bda0197f2"
      },
      "source": [
        "regressor.to(device)"
      ],
      "execution_count": null,
      "outputs": [
        {
          "output_type": "execute_result",
          "data": {
            "text/plain": [
              "regressor_LSTM(\n",
              "  (lstm1): LSTM(1, 100)\n",
              "  (lstm2): LSTM(100, 50)\n",
              "  (lstm3): LSTM(50, 50, num_layers=2, dropout=0.3)\n",
              "  (dropout): Dropout(p=0.3, inplace=False)\n",
              "  (linear): Linear(in_features=50, out_features=1, bias=True)\n",
              ")"
            ]
          },
          "metadata": {
            "tags": []
          },
          "execution_count": 73
        }
      ]
    },
    {
      "cell_type": "markdown",
      "metadata": {
        "id": "appMwDHtRTN5"
      },
      "source": [
        "## Etapa 4: Treinamento do modelo"
      ]
    },
    {
      "cell_type": "code",
      "metadata": {
        "id": "OxqnJdUsELbQ",
        "colab": {
          "base_uri": "https://localhost:8080/",
          "height": 1000
        },
        "outputId": "2d3e7e6c-9460-489e-c05f-dc600a4bbd67"
      },
      "source": [
        "for epoch in range(100):\n",
        "    running_loss = 0.\n",
        "    running_mae = 0.\n",
        "          \n",
        "    for i, data in enumerate(loader):\n",
        "        inputs, labels = data\n",
        "        inputs, labels = inputs.to(device), labels.to(device)\n",
        "        \n",
        "        optimizer.zero_grad()\n",
        "        \n",
        "        outputs = regressor(inputs)\n",
        "        outputs = outputs.flatten()\n",
        "        \n",
        "        loss = criterion(outputs, labels)\n",
        "        loss.backward()\n",
        "        \n",
        "        optimizer.step()\n",
        "    \n",
        "        running_loss += loss.item()\n",
        "        \n",
        "        mae = mean_absolute_error(labels.detach().cpu().numpy().flatten(), \n",
        "                                  outputs.detach().cpu().numpy().flatten())\n",
        "        running_mae += mae\n",
        "        \n",
        "        # Imprimindo os dados referentes a esse loop\n",
        "        print('\\rÉpoca {:3d} - Loop {:3d} de {:3d}: custo {:03.5f} - MAE {:03.5f}'.format(epoch+1, i+1, len(loader), loss, mae), end = '\\r')\n",
        "    \n",
        "    # Imprimindo os dados referentes a essa época\n",
        "    running_loss /= len(loader)\n",
        "    running_mae /= len(loader)\n",
        "    print('ÉPOCA {:3d} FINALIZADA: custo {:03.6f} - MAE {:03.6f}     '.format(epoch+1, running_loss, running_mae))"
      ],
      "execution_count": null,
      "outputs": [
        {
          "output_type": "stream",
          "text": [
            "ÉPOCA   1 FINALIZADA: custo 0.617197 - MAE 0.392042     \n",
            "ÉPOCA   2 FINALIZADA: custo 0.044489 - MAE 0.173143     \n",
            "ÉPOCA   3 FINALIZADA: custo 0.042634 - MAE 0.168486     \n",
            "ÉPOCA   4 FINALIZADA: custo 0.042580 - MAE 0.167780     \n",
            "ÉPOCA   5 FINALIZADA: custo 0.042988 - MAE 0.169501     \n",
            "ÉPOCA   6 FINALIZADA: custo 0.041258 - MAE 0.165216     \n",
            "ÉPOCA   7 FINALIZADA: custo 0.040895 - MAE 0.166067     \n",
            "ÉPOCA   8 FINALIZADA: custo 0.041720 - MAE 0.166694     \n",
            "ÉPOCA   9 FINALIZADA: custo 0.042168 - MAE 0.168636     \n",
            "ÉPOCA  10 FINALIZADA: custo 0.041595 - MAE 0.167798     \n",
            "ÉPOCA  11 FINALIZADA: custo 0.041157 - MAE 0.166043     \n",
            "ÉPOCA  12 FINALIZADA: custo 0.040735 - MAE 0.166048     \n",
            "ÉPOCA  13 FINALIZADA: custo 0.040076 - MAE 0.164315     \n",
            "ÉPOCA  14 FINALIZADA: custo 0.039879 - MAE 0.163793     \n",
            "ÉPOCA  15 FINALIZADA: custo 0.040431 - MAE 0.164462     \n",
            "ÉPOCA  16 FINALIZADA: custo 0.041346 - MAE 0.166684     \n",
            "ÉPOCA  17 FINALIZADA: custo 0.040531 - MAE 0.164659     \n",
            "ÉPOCA  18 FINALIZADA: custo 0.040841 - MAE 0.165438     \n",
            "ÉPOCA  19 FINALIZADA: custo 0.040500 - MAE 0.164800     \n",
            "ÉPOCA  20 FINALIZADA: custo 0.040435 - MAE 0.163899     \n",
            "ÉPOCA  21 FINALIZADA: custo 0.039962 - MAE 0.163437     \n",
            "ÉPOCA  22 FINALIZADA: custo 0.039741 - MAE 0.163636     \n",
            "ÉPOCA  23 FINALIZADA: custo 0.039986 - MAE 0.163970     \n",
            "ÉPOCA  24 FINALIZADA: custo 0.040024 - MAE 0.163918     \n",
            "ÉPOCA  25 FINALIZADA: custo 0.039580 - MAE 0.162461     \n",
            "ÉPOCA  26 FINALIZADA: custo 0.039338 - MAE 0.162861     \n",
            "ÉPOCA  27 FINALIZADA: custo 0.039466 - MAE 0.162873     \n",
            "ÉPOCA  28 FINALIZADA: custo 0.039129 - MAE 0.161592     \n",
            "ÉPOCA  29 FINALIZADA: custo 0.039823 - MAE 0.163718     \n",
            "ÉPOCA  30 FINALIZADA: custo 0.039531 - MAE 0.162241     \n",
            "ÉPOCA  31 FINALIZADA: custo 0.039439 - MAE 0.162428     \n",
            "ÉPOCA  32 FINALIZADA: custo 0.039482 - MAE 0.162503     \n",
            "ÉPOCA  33 FINALIZADA: custo 0.039484 - MAE 0.162024     \n",
            "ÉPOCA  34 FINALIZADA: custo 0.038986 - MAE 0.162093     \n",
            "ÉPOCA  35 FINALIZADA: custo 0.039813 - MAE 0.162930     \n",
            "ÉPOCA  36 FINALIZADA: custo 0.039315 - MAE 0.161969     \n",
            "ÉPOCA  37 FINALIZADA: custo 0.039349 - MAE 0.162294     \n",
            "ÉPOCA  38 FINALIZADA: custo 0.044838 - MAE 0.171730     \n",
            "ÉPOCA  39 FINALIZADA: custo 0.039341 - MAE 0.162322     \n",
            "ÉPOCA  40 FINALIZADA: custo 0.039232 - MAE 0.162128     \n",
            "ÉPOCA  41 FINALIZADA: custo 0.039223 - MAE 0.161941     \n",
            "ÉPOCA  42 FINALIZADA: custo 0.039216 - MAE 0.162250     \n",
            "ÉPOCA  43 FINALIZADA: custo 0.039121 - MAE 0.161581     \n",
            "ÉPOCA  44 FINALIZADA: custo 0.039395 - MAE 0.162908     \n",
            "ÉPOCA  45 FINALIZADA: custo 0.038715 - MAE 0.160934     \n",
            "ÉPOCA  46 FINALIZADA: custo 0.040153 - MAE 0.161499     \n",
            "ÉPOCA  47 FINALIZADA: custo 0.033357 - MAE 0.147898     \n",
            "ÉPOCA  48 FINALIZADA: custo 0.018650 - MAE 0.106081     \n",
            "ÉPOCA  49 FINALIZADA: custo 0.010660 - MAE 0.080372     \n",
            "ÉPOCA  50 FINALIZADA: custo 0.008146 - MAE 0.069747     \n",
            "ÉPOCA  51 FINALIZADA: custo 0.010278 - MAE 0.075452     \n",
            "ÉPOCA  52 FINALIZADA: custo 0.006207 - MAE 0.061018     \n",
            "ÉPOCA  53 FINALIZADA: custo 0.006569 - MAE 0.061846     \n",
            "ÉPOCA  54 FINALIZADA: custo 0.006396 - MAE 0.062213     \n",
            "ÉPOCA  55 FINALIZADA: custo 0.005939 - MAE 0.058606     \n",
            "ÉPOCA  56 FINALIZADA: custo 0.005110 - MAE 0.053605     \n",
            "ÉPOCA  57 FINALIZADA: custo 0.006136 - MAE 0.060272     \n",
            "ÉPOCA  58 FINALIZADA: custo 0.005328 - MAE 0.056070     \n",
            "ÉPOCA  59 FINALIZADA: custo 0.004398 - MAE 0.050803     \n",
            "ÉPOCA  60 FINALIZADA: custo 0.004670 - MAE 0.052386     \n",
            "ÉPOCA  61 FINALIZADA: custo 0.004120 - MAE 0.049288     \n",
            "ÉPOCA  62 FINALIZADA: custo 0.004989 - MAE 0.055097     \n",
            "ÉPOCA  63 FINALIZADA: custo 0.004030 - MAE 0.049020     \n",
            "ÉPOCA  64 FINALIZADA: custo 0.003855 - MAE 0.046623     \n",
            "ÉPOCA  65 FINALIZADA: custo 0.003908 - MAE 0.046830     \n",
            "ÉPOCA  66 FINALIZADA: custo 0.004215 - MAE 0.048706     \n",
            "ÉPOCA  67 FINALIZADA: custo 0.003624 - MAE 0.046858     \n",
            "ÉPOCA  68 FINALIZADA: custo 0.003815 - MAE 0.046986     \n",
            "ÉPOCA  69 FINALIZADA: custo 0.003523 - MAE 0.045776     \n",
            "ÉPOCA  70 FINALIZADA: custo 0.003352 - MAE 0.044317     \n",
            "ÉPOCA  71 FINALIZADA: custo 0.003568 - MAE 0.045695     \n",
            "ÉPOCA  72 FINALIZADA: custo 0.002621 - MAE 0.039378     \n",
            "ÉPOCA  73 FINALIZADA: custo 0.011308 - MAE 0.077183     \n",
            "ÉPOCA  74 FINALIZADA: custo 0.006588 - MAE 0.061244     \n",
            "ÉPOCA  75 FINALIZADA: custo 0.005073 - MAE 0.054691     \n",
            "ÉPOCA  76 FINALIZADA: custo 0.004383 - MAE 0.050659     \n",
            "ÉPOCA  77 FINALIZADA: custo 0.003971 - MAE 0.048535     \n",
            "ÉPOCA  78 FINALIZADA: custo 0.003683 - MAE 0.045757     \n",
            "ÉPOCA  79 FINALIZADA: custo 0.003139 - MAE 0.043270     \n",
            "ÉPOCA  80 FINALIZADA: custo 0.002669 - MAE 0.040451     \n",
            "ÉPOCA  81 FINALIZADA: custo 0.002991 - MAE 0.040643     \n",
            "ÉPOCA  82 FINALIZADA: custo 0.002912 - MAE 0.040773     \n",
            "ÉPOCA  83 FINALIZADA: custo 0.002916 - MAE 0.040989     \n",
            "ÉPOCA  84 FINALIZADA: custo 0.002404 - MAE 0.037221     \n",
            "ÉPOCA  85 FINALIZADA: custo 0.002873 - MAE 0.041109     \n",
            "ÉPOCA  86 FINALIZADA: custo 0.003294 - MAE 0.043658     \n",
            "ÉPOCA  87 FINALIZADA: custo 0.002739 - MAE 0.039205     \n",
            "ÉPOCA  88 FINALIZADA: custo 0.001971 - MAE 0.033819     \n",
            "ÉPOCA  89 FINALIZADA: custo 0.002473 - MAE 0.038161     \n",
            "ÉPOCA  90 FINALIZADA: custo 0.002851 - MAE 0.039697     \n",
            "ÉPOCA  91 FINALIZADA: custo 0.002335 - MAE 0.036636     \n",
            "ÉPOCA  92 FINALIZADA: custo 0.002839 - MAE 0.040218     \n",
            "ÉPOCA  93 FINALIZADA: custo 0.002297 - MAE 0.035976     \n",
            "ÉPOCA  94 FINALIZADA: custo 0.002338 - MAE 0.037169     \n",
            "ÉPOCA  95 FINALIZADA: custo 0.002975 - MAE 0.041645     \n",
            "ÉPOCA  96 FINALIZADA: custo 0.002202 - MAE 0.035616     \n",
            "ÉPOCA  97 FINALIZADA: custo 0.002009 - MAE 0.034669     \n",
            "ÉPOCA  98 FINALIZADA: custo 0.002031 - MAE 0.034180     \n",
            "ÉPOCA  99 FINALIZADA: custo 0.002339 - MAE 0.036119     \n",
            "ÉPOCA 100 FINALIZADA: custo 0.002662 - MAE 0.039946     \n"
          ],
          "name": "stdout"
        }
      ]
    },
    {
      "cell_type": "markdown",
      "metadata": {
        "id": "AyTjLzELSdQF"
      },
      "source": [
        "## Etapa 5: Processamento da base de teste"
      ]
    },
    {
      "cell_type": "code",
      "metadata": {
        "id": "9YBWRBMqhox5"
      },
      "source": [
        "base_teste = pd.read_csv('/content/petr4_teste.csv')"
      ],
      "execution_count": null,
      "outputs": []
    },
    {
      "cell_type": "code",
      "metadata": {
        "id": "qWiRDXozh5sV",
        "colab": {
          "base_uri": "https://localhost:8080/",
          "height": 35
        },
        "outputId": "f4569009-ec49-4117-d119-07451967ba85"
      },
      "source": [
        "base_teste.shape"
      ],
      "execution_count": null,
      "outputs": [
        {
          "output_type": "execute_result",
          "data": {
            "text/plain": [
              "(22, 7)"
            ]
          },
          "metadata": {
            "tags": []
          },
          "execution_count": 76
        }
      ]
    },
    {
      "cell_type": "code",
      "metadata": {
        "id": "yeSPQ_hUiAPP",
        "colab": {
          "base_uri": "https://localhost:8080/",
          "height": 708
        },
        "outputId": "7ab1595e-d87a-416b-e56b-bd95e7ea6f4d"
      },
      "source": [
        "base.head(22)"
      ],
      "execution_count": null,
      "outputs": [
        {
          "output_type": "execute_result",
          "data": {
            "text/html": [
              "<div>\n",
              "<style scoped>\n",
              "    .dataframe tbody tr th:only-of-type {\n",
              "        vertical-align: middle;\n",
              "    }\n",
              "\n",
              "    .dataframe tbody tr th {\n",
              "        vertical-align: top;\n",
              "    }\n",
              "\n",
              "    .dataframe thead th {\n",
              "        text-align: right;\n",
              "    }\n",
              "</style>\n",
              "<table border=\"1\" class=\"dataframe\">\n",
              "  <thead>\n",
              "    <tr style=\"text-align: right;\">\n",
              "      <th></th>\n",
              "      <th>Date</th>\n",
              "      <th>Open</th>\n",
              "      <th>High</th>\n",
              "      <th>Low</th>\n",
              "      <th>Close</th>\n",
              "      <th>Adj Close</th>\n",
              "      <th>Volume</th>\n",
              "    </tr>\n",
              "  </thead>\n",
              "  <tbody>\n",
              "    <tr>\n",
              "      <th>0</th>\n",
              "      <td>2013-01-02</td>\n",
              "      <td>19.990000</td>\n",
              "      <td>20.209999</td>\n",
              "      <td>19.690001</td>\n",
              "      <td>19.690001</td>\n",
              "      <td>18.086271</td>\n",
              "      <td>30182600.0</td>\n",
              "    </tr>\n",
              "    <tr>\n",
              "      <th>1</th>\n",
              "      <td>2013-01-03</td>\n",
              "      <td>19.809999</td>\n",
              "      <td>20.400000</td>\n",
              "      <td>19.700001</td>\n",
              "      <td>20.400000</td>\n",
              "      <td>18.738441</td>\n",
              "      <td>30552600.0</td>\n",
              "    </tr>\n",
              "    <tr>\n",
              "      <th>2</th>\n",
              "      <td>2013-01-04</td>\n",
              "      <td>20.330000</td>\n",
              "      <td>20.620001</td>\n",
              "      <td>20.170000</td>\n",
              "      <td>20.430000</td>\n",
              "      <td>18.766001</td>\n",
              "      <td>36141000.0</td>\n",
              "    </tr>\n",
              "    <tr>\n",
              "      <th>3</th>\n",
              "      <td>2013-01-07</td>\n",
              "      <td>20.480000</td>\n",
              "      <td>20.670000</td>\n",
              "      <td>19.950001</td>\n",
              "      <td>20.080000</td>\n",
              "      <td>18.444506</td>\n",
              "      <td>28069600.0</td>\n",
              "    </tr>\n",
              "    <tr>\n",
              "      <th>4</th>\n",
              "      <td>2013-01-08</td>\n",
              "      <td>20.110001</td>\n",
              "      <td>20.230000</td>\n",
              "      <td>19.459999</td>\n",
              "      <td>19.500000</td>\n",
              "      <td>17.911745</td>\n",
              "      <td>29091300.0</td>\n",
              "    </tr>\n",
              "    <tr>\n",
              "      <th>5</th>\n",
              "      <td>2013-01-09</td>\n",
              "      <td>19.639999</td>\n",
              "      <td>19.870001</td>\n",
              "      <td>19.459999</td>\n",
              "      <td>19.680000</td>\n",
              "      <td>18.077084</td>\n",
              "      <td>24361100.0</td>\n",
              "    </tr>\n",
              "    <tr>\n",
              "      <th>6</th>\n",
              "      <td>2013-01-10</td>\n",
              "      <td>19.770000</td>\n",
              "      <td>20.049999</td>\n",
              "      <td>19.540001</td>\n",
              "      <td>19.830000</td>\n",
              "      <td>18.214869</td>\n",
              "      <td>17526200.0</td>\n",
              "    </tr>\n",
              "    <tr>\n",
              "      <th>7</th>\n",
              "      <td>2013-01-11</td>\n",
              "      <td>19.850000</td>\n",
              "      <td>20.040001</td>\n",
              "      <td>19.700001</td>\n",
              "      <td>19.879999</td>\n",
              "      <td>18.260794</td>\n",
              "      <td>18223600.0</td>\n",
              "    </tr>\n",
              "    <tr>\n",
              "      <th>8</th>\n",
              "      <td>2013-01-14</td>\n",
              "      <td>20.010000</td>\n",
              "      <td>20.240000</td>\n",
              "      <td>19.690001</td>\n",
              "      <td>19.719999</td>\n",
              "      <td>18.113827</td>\n",
              "      <td>28302400.0</td>\n",
              "    </tr>\n",
              "    <tr>\n",
              "      <th>9</th>\n",
              "      <td>2013-01-15</td>\n",
              "      <td>20.010000</td>\n",
              "      <td>20.240000</td>\n",
              "      <td>19.690001</td>\n",
              "      <td>19.820000</td>\n",
              "      <td>18.205681</td>\n",
              "      <td>29633900.0</td>\n",
              "    </tr>\n",
              "    <tr>\n",
              "      <th>10</th>\n",
              "      <td>2013-01-16</td>\n",
              "      <td>19.889999</td>\n",
              "      <td>19.889999</td>\n",
              "      <td>19.600000</td>\n",
              "      <td>19.840000</td>\n",
              "      <td>18.224054</td>\n",
              "      <td>16787800.0</td>\n",
              "    </tr>\n",
              "    <tr>\n",
              "      <th>11</th>\n",
              "      <td>2013-01-17</td>\n",
              "      <td>19.860001</td>\n",
              "      <td>19.930000</td>\n",
              "      <td>19.600000</td>\n",
              "      <td>19.709999</td>\n",
              "      <td>18.104639</td>\n",
              "      <td>19719600.0</td>\n",
              "    </tr>\n",
              "    <tr>\n",
              "      <th>12</th>\n",
              "      <td>2013-01-18</td>\n",
              "      <td>19.799999</td>\n",
              "      <td>19.889999</td>\n",
              "      <td>19.540001</td>\n",
              "      <td>19.580000</td>\n",
              "      <td>17.985229</td>\n",
              "      <td>18913900.0</td>\n",
              "    </tr>\n",
              "    <tr>\n",
              "      <th>13</th>\n",
              "      <td>2013-01-21</td>\n",
              "      <td>19.570000</td>\n",
              "      <td>19.600000</td>\n",
              "      <td>19.270000</td>\n",
              "      <td>19.389999</td>\n",
              "      <td>17.810705</td>\n",
              "      <td>18086200.0</td>\n",
              "    </tr>\n",
              "    <tr>\n",
              "      <th>14</th>\n",
              "      <td>2013-01-22</td>\n",
              "      <td>19.420000</td>\n",
              "      <td>19.610001</td>\n",
              "      <td>19.230000</td>\n",
              "      <td>19.580000</td>\n",
              "      <td>17.985229</td>\n",
              "      <td>23535100.0</td>\n",
              "    </tr>\n",
              "    <tr>\n",
              "      <th>15</th>\n",
              "      <td>2013-01-23</td>\n",
              "      <td>19.420000</td>\n",
              "      <td>19.629999</td>\n",
              "      <td>19.230000</td>\n",
              "      <td>19.549999</td>\n",
              "      <td>17.957674</td>\n",
              "      <td>17200800.0</td>\n",
              "    </tr>\n",
              "    <tr>\n",
              "      <th>16</th>\n",
              "      <td>2013-01-24</td>\n",
              "      <td>19.370001</td>\n",
              "      <td>19.750000</td>\n",
              "      <td>19.370001</td>\n",
              "      <td>19.610001</td>\n",
              "      <td>18.012787</td>\n",
              "      <td>19612600.0</td>\n",
              "    </tr>\n",
              "    <tr>\n",
              "      <th>17</th>\n",
              "      <td>2013-01-28</td>\n",
              "      <td>19.730000</td>\n",
              "      <td>19.809999</td>\n",
              "      <td>19.270000</td>\n",
              "      <td>19.370001</td>\n",
              "      <td>17.792336</td>\n",
              "      <td>20122600.0</td>\n",
              "    </tr>\n",
              "    <tr>\n",
              "      <th>18</th>\n",
              "      <td>2013-01-29</td>\n",
              "      <td>19.350000</td>\n",
              "      <td>19.370001</td>\n",
              "      <td>18.840000</td>\n",
              "      <td>19.110001</td>\n",
              "      <td>17.553513</td>\n",
              "      <td>27097900.0</td>\n",
              "    </tr>\n",
              "    <tr>\n",
              "      <th>19</th>\n",
              "      <td>2013-01-30</td>\n",
              "      <td>18.990000</td>\n",
              "      <td>18.990000</td>\n",
              "      <td>18.170000</td>\n",
              "      <td>18.200001</td>\n",
              "      <td>16.717628</td>\n",
              "      <td>66985800.0</td>\n",
              "    </tr>\n",
              "    <tr>\n",
              "      <th>20</th>\n",
              "      <td>2013-01-31</td>\n",
              "      <td>18.260000</td>\n",
              "      <td>18.330000</td>\n",
              "      <td>17.900000</td>\n",
              "      <td>18.080000</td>\n",
              "      <td>16.607405</td>\n",
              "      <td>33246400.0</td>\n",
              "    </tr>\n",
              "    <tr>\n",
              "      <th>21</th>\n",
              "      <td>2013-02-01</td>\n",
              "      <td>18.139999</td>\n",
              "      <td>18.650000</td>\n",
              "      <td>18.120001</td>\n",
              "      <td>18.459999</td>\n",
              "      <td>16.956451</td>\n",
              "      <td>28860400.0</td>\n",
              "    </tr>\n",
              "  </tbody>\n",
              "</table>\n",
              "</div>"
            ],
            "text/plain": [
              "          Date       Open       High  ...      Close  Adj Close      Volume\n",
              "0   2013-01-02  19.990000  20.209999  ...  19.690001  18.086271  30182600.0\n",
              "1   2013-01-03  19.809999  20.400000  ...  20.400000  18.738441  30552600.0\n",
              "2   2013-01-04  20.330000  20.620001  ...  20.430000  18.766001  36141000.0\n",
              "3   2013-01-07  20.480000  20.670000  ...  20.080000  18.444506  28069600.0\n",
              "4   2013-01-08  20.110001  20.230000  ...  19.500000  17.911745  29091300.0\n",
              "5   2013-01-09  19.639999  19.870001  ...  19.680000  18.077084  24361100.0\n",
              "6   2013-01-10  19.770000  20.049999  ...  19.830000  18.214869  17526200.0\n",
              "7   2013-01-11  19.850000  20.040001  ...  19.879999  18.260794  18223600.0\n",
              "8   2013-01-14  20.010000  20.240000  ...  19.719999  18.113827  28302400.0\n",
              "9   2013-01-15  20.010000  20.240000  ...  19.820000  18.205681  29633900.0\n",
              "10  2013-01-16  19.889999  19.889999  ...  19.840000  18.224054  16787800.0\n",
              "11  2013-01-17  19.860001  19.930000  ...  19.709999  18.104639  19719600.0\n",
              "12  2013-01-18  19.799999  19.889999  ...  19.580000  17.985229  18913900.0\n",
              "13  2013-01-21  19.570000  19.600000  ...  19.389999  17.810705  18086200.0\n",
              "14  2013-01-22  19.420000  19.610001  ...  19.580000  17.985229  23535100.0\n",
              "15  2013-01-23  19.420000  19.629999  ...  19.549999  17.957674  17200800.0\n",
              "16  2013-01-24  19.370001  19.750000  ...  19.610001  18.012787  19612600.0\n",
              "17  2013-01-28  19.730000  19.809999  ...  19.370001  17.792336  20122600.0\n",
              "18  2013-01-29  19.350000  19.370001  ...  19.110001  17.553513  27097900.0\n",
              "19  2013-01-30  18.990000  18.990000  ...  18.200001  16.717628  66985800.0\n",
              "20  2013-01-31  18.260000  18.330000  ...  18.080000  16.607405  33246400.0\n",
              "21  2013-02-01  18.139999  18.650000  ...  18.459999  16.956451  28860400.0\n",
              "\n",
              "[22 rows x 7 columns]"
            ]
          },
          "metadata": {
            "tags": []
          },
          "execution_count": 77
        }
      ]
    },
    {
      "cell_type": "code",
      "metadata": {
        "id": "xISUSOahiMyN"
      },
      "source": [
        "preco_real_teste = base_teste.iloc[:, 1:2].values"
      ],
      "execution_count": null,
      "outputs": []
    },
    {
      "cell_type": "code",
      "metadata": {
        "id": "7F5tceV3iSY3",
        "colab": {
          "base_uri": "https://localhost:8080/",
          "height": 397
        },
        "outputId": "85df7c6f-baf1-4d43-a26c-c2245c5c3626"
      },
      "source": [
        "preco_real_teste"
      ],
      "execution_count": null,
      "outputs": [
        {
          "output_type": "execute_result",
          "data": {
            "text/plain": [
              "array([[16.190001],\n",
              "       [16.49    ],\n",
              "       [16.780001],\n",
              "       [16.700001],\n",
              "       [16.74    ],\n",
              "       [17.030001],\n",
              "       [16.92    ],\n",
              "       [16.879999],\n",
              "       [17.040001],\n",
              "       [17.32    ],\n",
              "       [17.35    ],\n",
              "       [17.92    ],\n",
              "       [18.35    ],\n",
              "       [18.309999],\n",
              "       [18.26    ],\n",
              "       [18.4     ],\n",
              "       [18.42    ],\n",
              "       [19.34    ],\n",
              "       [19.620001],\n",
              "       [19.67    ],\n",
              "       [19.77    ],\n",
              "       [19.74    ]])"
            ]
          },
          "metadata": {
            "tags": []
          },
          "execution_count": 79
        }
      ]
    },
    {
      "cell_type": "code",
      "metadata": {
        "id": "4Q0CLxD1iWg9"
      },
      "source": [
        "base_completa = pd.concat((base['Open'], base_teste['Open']), axis = 0)"
      ],
      "execution_count": null,
      "outputs": []
    },
    {
      "cell_type": "code",
      "metadata": {
        "id": "34dENwaJjBS2",
        "colab": {
          "base_uri": "https://localhost:8080/",
          "height": 35
        },
        "outputId": "5cede3d2-a139-4a8f-d3cf-4fce27b87f1e"
      },
      "source": [
        "base.shape"
      ],
      "execution_count": null,
      "outputs": [
        {
          "output_type": "execute_result",
          "data": {
            "text/plain": [
              "(1242, 7)"
            ]
          },
          "metadata": {
            "tags": []
          },
          "execution_count": 81
        }
      ]
    },
    {
      "cell_type": "code",
      "metadata": {
        "id": "HLfRCwBLjECi",
        "colab": {
          "base_uri": "https://localhost:8080/",
          "height": 35
        },
        "outputId": "893b7693-dd53-445d-b6b7-d496a0cf185e"
      },
      "source": [
        "1264 - 1242"
      ],
      "execution_count": null,
      "outputs": [
        {
          "output_type": "execute_result",
          "data": {
            "text/plain": [
              "22"
            ]
          },
          "metadata": {
            "tags": []
          },
          "execution_count": 82
        }
      ]
    },
    {
      "cell_type": "code",
      "metadata": {
        "id": "Q7RPWa7Ai-fB",
        "colab": {
          "base_uri": "https://localhost:8080/",
          "height": 35
        },
        "outputId": "89a57498-8322-44ca-e3c5-18df26b2e38e"
      },
      "source": [
        "base_completa.shape"
      ],
      "execution_count": null,
      "outputs": [
        {
          "output_type": "execute_result",
          "data": {
            "text/plain": [
              "(1264,)"
            ]
          },
          "metadata": {
            "tags": []
          },
          "execution_count": 83
        }
      ]
    },
    {
      "cell_type": "code",
      "metadata": {
        "id": "5Axl0rCRjJ_O"
      },
      "source": [
        "entradas = base_completa[len(base_completa) - len(base_teste) - 90:].values"
      ],
      "execution_count": null,
      "outputs": []
    },
    {
      "cell_type": "code",
      "metadata": {
        "id": "XlHyr12ajbYO",
        "colab": {
          "base_uri": "https://localhost:8080/",
          "height": 345
        },
        "outputId": "0c384108-4a8f-45fa-8a3b-7659535eb792"
      },
      "source": [
        "entradas"
      ],
      "execution_count": null,
      "outputs": [
        {
          "output_type": "execute_result",
          "data": {
            "text/plain": [
              "array([13.93    , 13.76    , 13.79    , 13.53    , 13.85    , 13.96    ,\n",
              "       14.57    , 14.65    , 15.02    , 15.1     , 14.88    , 14.98    ,\n",
              "       14.94    , 15.03    , 15.07    , 15.02    , 15.1     , 15.25    ,\n",
              "       15.85    , 15.6     , 15.79    , 15.86    , 15.7     , 15.37    ,\n",
              "       15.5     , 15.19    , 15.6     , 15.9     , 15.88    , 15.66    ,\n",
              "       15.61    , 16.129999, 16.17    , 16.08    , 16.23    , 16.16    ,\n",
              "       16.139999, 16.219999, 16.      , 16.190001, 16.290001, 16.290001,\n",
              "       16.530001, 16.780001, 16.77    , 16.969999, 16.9     , 16.99    ,\n",
              "       16.9     , 16.959999, 17.049999, 17.309999, 16.690001, 16.889999,\n",
              "       16.709999, 16.690001, 16.639999, 15.35    , 15.62    , 15.92    ,\n",
              "       16.02    , 16.15    , 16.09    , 15.98    , 16.25    , 16.01    ,\n",
              "       15.93    , 15.87    , 15.3     , 15.34    , 15.65    , 15.5     ,\n",
              "       15.22    , 15.3     , 15.51    , 15.48    , 15.36    , 15.65    ,\n",
              "       15.1     , 15.05    , 15.16    , 15.18    , 15.21    , 15.31    ,\n",
              "       15.75    , 15.75    , 15.75    , 15.99    , 16.1     , 16.1     ,\n",
              "       16.190001, 16.49    , 16.780001, 16.700001, 16.74    , 17.030001,\n",
              "       16.92    , 16.879999, 17.040001, 17.32    , 17.35    , 17.92    ,\n",
              "       18.35    , 18.309999, 18.26    , 18.4     , 18.42    , 19.34    ,\n",
              "       19.620001, 19.67    , 19.77    , 19.74    ])"
            ]
          },
          "metadata": {
            "tags": []
          },
          "execution_count": 85
        }
      ]
    },
    {
      "cell_type": "code",
      "metadata": {
        "id": "r41u403FjyAU",
        "colab": {
          "base_uri": "https://localhost:8080/",
          "height": 35
        },
        "outputId": "c984f92a-c577-4792-e06f-daa1adf1acdc"
      },
      "source": [
        "entradas.shape"
      ],
      "execution_count": null,
      "outputs": [
        {
          "output_type": "execute_result",
          "data": {
            "text/plain": [
              "(112,)"
            ]
          },
          "metadata": {
            "tags": []
          },
          "execution_count": 86
        }
      ]
    },
    {
      "cell_type": "code",
      "metadata": {
        "id": "rRxp2PsskIll",
        "colab": {
          "base_uri": "https://localhost:8080/",
          "height": 35
        },
        "outputId": "70aa15ed-3a69-4827-b653-91ed9fc0b58e"
      },
      "source": [
        "entradas = entradas.reshape(-1,1)\n",
        "entradas.shape"
      ],
      "execution_count": null,
      "outputs": [
        {
          "output_type": "execute_result",
          "data": {
            "text/plain": [
              "(112, 1)"
            ]
          },
          "metadata": {
            "tags": []
          },
          "execution_count": 87
        }
      ]
    },
    {
      "cell_type": "code",
      "metadata": {
        "id": "3C-V1y0skPcL",
        "colab": {
          "base_uri": "https://localhost:8080/",
          "height": 1000
        },
        "outputId": "c3ecdc04-bc44-4c94-9f3f-86fca9e7fee1"
      },
      "source": [
        "entradas = normalizador.transform(entradas)\n",
        "entradas"
      ],
      "execution_count": null,
      "outputs": [
        {
          "output_type": "execute_result",
          "data": {
            "text/plain": [
              "array([[0.47141473],\n",
              "       [0.46317829],\n",
              "       [0.46463178],\n",
              "       [0.45203488],\n",
              "       [0.46753876],\n",
              "       [0.47286822],\n",
              "       [0.50242248],\n",
              "       [0.50629845],\n",
              "       [0.52422481],\n",
              "       [0.52810078],\n",
              "       [0.51744186],\n",
              "       [0.52228682],\n",
              "       [0.52034884],\n",
              "       [0.5247093 ],\n",
              "       [0.52664729],\n",
              "       [0.52422481],\n",
              "       [0.52810078],\n",
              "       [0.53536822],\n",
              "       [0.56443798],\n",
              "       [0.55232558],\n",
              "       [0.56153101],\n",
              "       [0.56492248],\n",
              "       [0.55717054],\n",
              "       [0.54118217],\n",
              "       [0.54748062],\n",
              "       [0.53246124],\n",
              "       [0.55232558],\n",
              "       [0.56686047],\n",
              "       [0.56589147],\n",
              "       [0.55523256],\n",
              "       [0.55281008],\n",
              "       [0.57800383],\n",
              "       [0.57994186],\n",
              "       [0.5755814 ],\n",
              "       [0.58284884],\n",
              "       [0.57945736],\n",
              "       [0.57848832],\n",
              "       [0.58236429],\n",
              "       [0.57170543],\n",
              "       [0.5809109 ],\n",
              "       [0.58575586],\n",
              "       [0.58575586],\n",
              "       [0.59738377],\n",
              "       [0.60949617],\n",
              "       [0.60901163],\n",
              "       [0.6187015 ],\n",
              "       [0.61531008],\n",
              "       [0.61967054],\n",
              "       [0.61531008],\n",
              "       [0.61821701],\n",
              "       [0.62257747],\n",
              "       [0.63517437],\n",
              "       [0.60513571],\n",
              "       [0.61482553],\n",
              "       [0.6061046 ],\n",
              "       [0.60513571],\n",
              "       [0.60271313],\n",
              "       [0.54021318],\n",
              "       [0.55329457],\n",
              "       [0.56782946],\n",
              "       [0.57267442],\n",
              "       [0.57897287],\n",
              "       [0.57606589],\n",
              "       [0.57073643],\n",
              "       [0.58381783],\n",
              "       [0.57218992],\n",
              "       [0.56831395],\n",
              "       [0.56540698],\n",
              "       [0.5377907 ],\n",
              "       [0.53972868],\n",
              "       [0.55474806],\n",
              "       [0.54748062],\n",
              "       [0.53391473],\n",
              "       [0.5377907 ],\n",
              "       [0.54796512],\n",
              "       [0.54651163],\n",
              "       [0.54069767],\n",
              "       [0.55474806],\n",
              "       [0.52810078],\n",
              "       [0.52567829],\n",
              "       [0.53100775],\n",
              "       [0.53197674],\n",
              "       [0.53343023],\n",
              "       [0.53827519],\n",
              "       [0.55959302],\n",
              "       [0.55959302],\n",
              "       [0.55959302],\n",
              "       [0.57122093],\n",
              "       [0.57655039],\n",
              "       [0.57655039],\n",
              "       [0.5809109 ],\n",
              "       [0.59544574],\n",
              "       [0.60949617],\n",
              "       [0.6056202 ],\n",
              "       [0.60755814],\n",
              "       [0.62160858],\n",
              "       [0.61627907],\n",
              "       [0.61434104],\n",
              "       [0.62209307],\n",
              "       [0.63565891],\n",
              "       [0.6371124 ],\n",
              "       [0.66472868],\n",
              "       [0.68556202],\n",
              "       [0.68362398],\n",
              "       [0.68120155],\n",
              "       [0.6879845 ],\n",
              "       [0.68895349],\n",
              "       [0.73352713],\n",
              "       [0.74709307],\n",
              "       [0.7495155 ],\n",
              "       [0.75436047],\n",
              "       [0.75290698]])"
            ]
          },
          "metadata": {
            "tags": []
          },
          "execution_count": 88
        }
      ]
    },
    {
      "cell_type": "code",
      "metadata": {
        "id": "OuWZpRalk1M0",
        "colab": {
          "base_uri": "https://localhost:8080/",
          "height": 35
        },
        "outputId": "7875fd7e-ec62-41de-864c-b6ce53952145"
      },
      "source": [
        "112 - 90"
      ],
      "execution_count": null,
      "outputs": [
        {
          "output_type": "execute_result",
          "data": {
            "text/plain": [
              "22"
            ]
          },
          "metadata": {
            "tags": []
          },
          "execution_count": 89
        }
      ]
    },
    {
      "cell_type": "code",
      "metadata": {
        "id": "NEeMWfk3kV70"
      },
      "source": [
        "X_teste = []\n",
        "for i in range(90, 112):\n",
        "  X_teste.append(entradas[i-90:i, 0])\n",
        "X_teste = np.array(X_teste)"
      ],
      "execution_count": null,
      "outputs": []
    },
    {
      "cell_type": "code",
      "metadata": {
        "id": "oQaH_PZFlE0S",
        "colab": {
          "base_uri": "https://localhost:8080/",
          "height": 328
        },
        "outputId": "d767c19f-8cd0-448b-a781-f2b612ad8eed"
      },
      "source": [
        "X_teste[21]"
      ],
      "execution_count": null,
      "outputs": [
        {
          "output_type": "execute_result",
          "data": {
            "text/plain": [
              "array([0.56492248, 0.55717054, 0.54118217, 0.54748062, 0.53246124,\n",
              "       0.55232558, 0.56686047, 0.56589147, 0.55523256, 0.55281008,\n",
              "       0.57800383, 0.57994186, 0.5755814 , 0.58284884, 0.57945736,\n",
              "       0.57848832, 0.58236429, 0.57170543, 0.5809109 , 0.58575586,\n",
              "       0.58575586, 0.59738377, 0.60949617, 0.60901163, 0.6187015 ,\n",
              "       0.61531008, 0.61967054, 0.61531008, 0.61821701, 0.62257747,\n",
              "       0.63517437, 0.60513571, 0.61482553, 0.6061046 , 0.60513571,\n",
              "       0.60271313, 0.54021318, 0.55329457, 0.56782946, 0.57267442,\n",
              "       0.57897287, 0.57606589, 0.57073643, 0.58381783, 0.57218992,\n",
              "       0.56831395, 0.56540698, 0.5377907 , 0.53972868, 0.55474806,\n",
              "       0.54748062, 0.53391473, 0.5377907 , 0.54796512, 0.54651163,\n",
              "       0.54069767, 0.55474806, 0.52810078, 0.52567829, 0.53100775,\n",
              "       0.53197674, 0.53343023, 0.53827519, 0.55959302, 0.55959302,\n",
              "       0.55959302, 0.57122093, 0.57655039, 0.57655039, 0.5809109 ,\n",
              "       0.59544574, 0.60949617, 0.6056202 , 0.60755814, 0.62160858,\n",
              "       0.61627907, 0.61434104, 0.62209307, 0.63565891, 0.6371124 ,\n",
              "       0.66472868, 0.68556202, 0.68362398, 0.68120155, 0.6879845 ,\n",
              "       0.68895349, 0.73352713, 0.74709307, 0.7495155 , 0.75436047])"
            ]
          },
          "metadata": {
            "tags": []
          },
          "execution_count": 91
        }
      ]
    },
    {
      "cell_type": "code",
      "metadata": {
        "id": "mjJS7hAulmwj"
      },
      "source": [
        "X_teste = torch.tensor(X_teste, device = device, dtype=torch.float32)"
      ],
      "execution_count": null,
      "outputs": []
    },
    {
      "cell_type": "markdown",
      "metadata": {
        "id": "2kcTr4ikoM3k"
      },
      "source": [
        "## Etapa 6: Previsões"
      ]
    },
    {
      "cell_type": "code",
      "metadata": {
        "id": "enIeV2_pl-tA"
      },
      "source": [
        "regressor.eval()\n",
        "previsoes = regressor.forward(X_teste)"
      ],
      "execution_count": null,
      "outputs": []
    },
    {
      "cell_type": "code",
      "metadata": {
        "id": "Azd3tJ5YmF0f",
        "colab": {
          "base_uri": "https://localhost:8080/",
          "height": 397
        },
        "outputId": "e0fcc9e6-933c-4fdb-ca3a-6c8bdcb81dd2"
      },
      "source": [
        "previsoes"
      ],
      "execution_count": null,
      "outputs": [
        {
          "output_type": "execute_result",
          "data": {
            "text/plain": [
              "tensor([[0.5433],\n",
              "        [0.5456],\n",
              "        [0.5531],\n",
              "        [0.5643],\n",
              "        [0.5677],\n",
              "        [0.5692],\n",
              "        [0.5785],\n",
              "        [0.5810],\n",
              "        [0.5795],\n",
              "        [0.5849],\n",
              "        [0.5946],\n",
              "        [0.6001],\n",
              "        [0.6176],\n",
              "        [0.6390],\n",
              "        [0.6451],\n",
              "        [0.6465],\n",
              "        [0.6518],\n",
              "        [0.6524],\n",
              "        [0.6778],\n",
              "        [0.7033],\n",
              "        [0.7141],\n",
              "        [0.7245]], device='cuda:0', grad_fn=<AddmmBackward>)"
            ]
          },
          "metadata": {
            "tags": []
          },
          "execution_count": 94
        }
      ]
    },
    {
      "cell_type": "code",
      "metadata": {
        "id": "C7OzboJZmI8u",
        "colab": {
          "base_uri": "https://localhost:8080/",
          "height": 35
        },
        "outputId": "aca0e6d5-3ec0-457f-884a-5e5b958b5802"
      },
      "source": [
        "previsoes.shape"
      ],
      "execution_count": null,
      "outputs": [
        {
          "output_type": "execute_result",
          "data": {
            "text/plain": [
              "torch.Size([22, 1])"
            ]
          },
          "metadata": {
            "tags": []
          },
          "execution_count": 95
        }
      ]
    },
    {
      "cell_type": "code",
      "metadata": {
        "id": "h6q9fQNpmMSH",
        "colab": {
          "base_uri": "https://localhost:8080/",
          "height": 35
        },
        "outputId": "86553380-91de-407e-f4c1-bde33e7da419"
      },
      "source": [
        "previsoes = previsoes.detach().cpu().numpy().reshape(-1,1)\n",
        "previsoes.shape"
      ],
      "execution_count": null,
      "outputs": [
        {
          "output_type": "execute_result",
          "data": {
            "text/plain": [
              "(22, 1)"
            ]
          },
          "metadata": {
            "tags": []
          },
          "execution_count": 96
        }
      ]
    },
    {
      "cell_type": "code",
      "metadata": {
        "id": "F3a4MYAumW1f"
      },
      "source": [
        "previsoes = normalizador.inverse_transform(previsoes)"
      ],
      "execution_count": null,
      "outputs": []
    },
    {
      "cell_type": "code",
      "metadata": {
        "id": "eedRp8xQmhTZ",
        "colab": {
          "base_uri": "https://localhost:8080/",
          "height": 35
        },
        "outputId": "fdc207d4-66b8-4d5a-f10c-753c65bd4079"
      },
      "source": [
        "previsoes.mean()"
      ],
      "execution_count": null,
      "outputs": [
        {
          "output_type": "execute_result",
          "data": {
            "text/plain": [
              "16.89705"
            ]
          },
          "metadata": {
            "tags": []
          },
          "execution_count": 98
        }
      ]
    },
    {
      "cell_type": "code",
      "metadata": {
        "id": "QT8Zo-BZmlKW",
        "colab": {
          "base_uri": "https://localhost:8080/",
          "height": 35
        },
        "outputId": "80026ebd-7757-4123-8cb0-670f8f83a447"
      },
      "source": [
        "preco_real_teste.mean()"
      ],
      "execution_count": null,
      "outputs": [
        {
          "output_type": "execute_result",
          "data": {
            "text/plain": [
              "17.87454563636364"
            ]
          },
          "metadata": {
            "tags": []
          },
          "execution_count": 99
        }
      ]
    },
    {
      "cell_type": "code",
      "metadata": {
        "id": "QXCp4-O9mrzj",
        "colab": {
          "base_uri": "https://localhost:8080/",
          "height": 312
        },
        "outputId": "e863b506-1de6-45da-c843-3053ec6146c8"
      },
      "source": [
        "plt.plot(preco_real_teste, color='red', label='Preço real')\n",
        "plt.plot(previsoes, color = 'blue', label='Previsões')\n",
        "plt.title('Previsão do preço de açoões')\n",
        "plt.xlabel('Tempo')\n",
        "plt.ylabel('Valor Yahoo')\n",
        "plt.legend()"
      ],
      "execution_count": null,
      "outputs": [
        {
          "output_type": "execute_result",
          "data": {
            "text/plain": [
              "<matplotlib.legend.Legend at 0x7ffb313aa4a8>"
            ]
          },
          "metadata": {
            "tags": []
          },
          "execution_count": 100
        },
        {
          "output_type": "display_data",
          "data": {
            "image/png": "[encoded data removed]",
            "text/plain": [
              "<Figure size 432x288 with 1 Axes>"
            ]
          },
          "metadata": {
            "tags": []
          }
        }
      ]
    }
  ]
}